{
 "cells": [
  {
   "cell_type": "markdown",
   "id": "2cb9f336-7ee5-47e6-bcaa-efa073d53d6f",
   "metadata": {
    "jp-MarkdownHeadingCollapsed": true
   },
   "source": [
    "# Import packages and modules"
   ]
  },
  {
   "cell_type": "code",
   "execution_count": 1,
   "id": "55c008b6-d68a-47ed-96bb-fa0e9a1cb94b",
   "metadata": {},
   "outputs": [],
   "source": [
    "%load_ext autoreload\n",
    "%autoreload 2"
   ]
  },
  {
   "cell_type": "code",
   "execution_count": 2,
   "id": "d7da6e72-4f0d-4063-bd0e-794fb3314d8e",
   "metadata": {},
   "outputs": [],
   "source": [
    "import pandas as pd\n",
    "import numpy as np\n",
    "from sklearn.decomposition import PCA\n",
    "from dotenv import load_dotenv\n",
    "import os"
   ]
  },
  {
   "cell_type": "code",
   "execution_count": 3,
   "id": "6511cb39-b72f-44cf-890a-4792d2632355",
   "metadata": {},
   "outputs": [
    {
     "data": {
      "text/plain": [
       "True"
      ]
     },
     "execution_count": 3,
     "metadata": {},
     "output_type": "execute_result"
    }
   ],
   "source": [
    "load_dotenv()"
   ]
  },
  {
   "cell_type": "markdown",
   "id": "c7171e43-0e38-48b1-82be-d9eb444f7181",
   "metadata": {
    "jp-MarkdownHeadingCollapsed": true
   },
   "source": [
    "# Import data"
   ]
  },
  {
   "cell_type": "code",
   "execution_count": 4,
   "id": "59731981-f658-479a-9b40-e4486b2f0095",
   "metadata": {},
   "outputs": [],
   "source": [
    "# data = pd.read_csv(\"../DATA_HR\")\n",
    "data = os.getenv(\"DATA_HR\")"
   ]
  },
  {
   "cell_type": "code",
   "execution_count": 5,
   "id": "038f7bcd-44f8-463e-81ba-8e60e3e5ac7b",
   "metadata": {},
   "outputs": [],
   "source": [
    "data_df = pd.read_csv(data)"
   ]
  },
  {
   "cell_type": "code",
   "execution_count": 20,
   "id": "a509ada0-a453-4880-be19-86c158f49849",
   "metadata": {},
   "outputs": [
    {
     "data": {
      "text/html": [
       "<div>\n",
       "<style scoped>\n",
       "    .dataframe tbody tr th:only-of-type {\n",
       "        vertical-align: middle;\n",
       "    }\n",
       "\n",
       "    .dataframe tbody tr th {\n",
       "        vertical-align: top;\n",
       "    }\n",
       "\n",
       "    .dataframe thead th {\n",
       "        text-align: right;\n",
       "    }\n",
       "</style>\n",
       "<table border=\"1\" class=\"dataframe\">\n",
       "  <thead>\n",
       "    <tr style=\"text-align: right;\">\n",
       "      <th></th>\n",
       "      <th>ID</th>\n",
       "      <th>Name</th>\n",
       "      <th>Department</th>\n",
       "      <th>GEO</th>\n",
       "      <th>Role</th>\n",
       "      <th>Rising_Star</th>\n",
       "      <th>Will_Relocate</th>\n",
       "      <th>Critical</th>\n",
       "      <th>Trending Perf</th>\n",
       "      <th>Talent_Level</th>\n",
       "      <th>...</th>\n",
       "      <th>Emp_Competitive_4</th>\n",
       "      <th>Emp_Competitive_5</th>\n",
       "      <th>Emp_Collaborative_1</th>\n",
       "      <th>Emp_Collaborative_2</th>\n",
       "      <th>Emp_Collaborative_3</th>\n",
       "      <th>Emp_Collaborative_4</th>\n",
       "      <th>Emp_Collaborative_5</th>\n",
       "      <th>Sensor_StepCount</th>\n",
       "      <th>Sensor_Heartbeat(Average/Min)</th>\n",
       "      <th>Sensor_Proximity(1-highest/10-lowest)</th>\n",
       "    </tr>\n",
       "  </thead>\n",
       "  <tbody>\n",
       "    <tr>\n",
       "      <th>0</th>\n",
       "      <td>1</td>\n",
       "      <td>BRADDY</td>\n",
       "      <td>Operations</td>\n",
       "      <td>US</td>\n",
       "      <td>VP</td>\n",
       "      <td>NaN</td>\n",
       "      <td>0</td>\n",
       "      <td>1.0</td>\n",
       "      <td>3</td>\n",
       "      <td>6</td>\n",
       "      <td>...</td>\n",
       "      <td>2</td>\n",
       "      <td>2</td>\n",
       "      <td>2</td>\n",
       "      <td>2</td>\n",
       "      <td>2</td>\n",
       "      <td>1</td>\n",
       "      <td>5</td>\n",
       "      <td>1841</td>\n",
       "      <td>61</td>\n",
       "      <td>9</td>\n",
       "    </tr>\n",
       "    <tr>\n",
       "      <th>1</th>\n",
       "      <td>2</td>\n",
       "      <td>BORST</td>\n",
       "      <td>Sales</td>\n",
       "      <td>UK</td>\n",
       "      <td>Senior Director</td>\n",
       "      <td>NaN</td>\n",
       "      <td>0</td>\n",
       "      <td>NaN</td>\n",
       "      <td>3</td>\n",
       "      <td>6</td>\n",
       "      <td>...</td>\n",
       "      <td>4</td>\n",
       "      <td>1</td>\n",
       "      <td>3</td>\n",
       "      <td>2</td>\n",
       "      <td>5</td>\n",
       "      <td>1</td>\n",
       "      <td>5</td>\n",
       "      <td>1990</td>\n",
       "      <td>90</td>\n",
       "      <td>8</td>\n",
       "    </tr>\n",
       "    <tr>\n",
       "      <th>2</th>\n",
       "      <td>3</td>\n",
       "      <td>BIRDWELL</td>\n",
       "      <td>Finance</td>\n",
       "      <td>France</td>\n",
       "      <td>Senior Director</td>\n",
       "      <td>NaN</td>\n",
       "      <td>0</td>\n",
       "      <td>NaN</td>\n",
       "      <td>3</td>\n",
       "      <td>6</td>\n",
       "      <td>...</td>\n",
       "      <td>2</td>\n",
       "      <td>5</td>\n",
       "      <td>2</td>\n",
       "      <td>2</td>\n",
       "      <td>4</td>\n",
       "      <td>4</td>\n",
       "      <td>4</td>\n",
       "      <td>3193</td>\n",
       "      <td>80</td>\n",
       "      <td>8</td>\n",
       "    </tr>\n",
       "    <tr>\n",
       "      <th>3</th>\n",
       "      <td>4</td>\n",
       "      <td>BENT</td>\n",
       "      <td>Human Resources</td>\n",
       "      <td>China</td>\n",
       "      <td>Senior Director</td>\n",
       "      <td>NaN</td>\n",
       "      <td>0</td>\n",
       "      <td>NaN</td>\n",
       "      <td>3</td>\n",
       "      <td>6</td>\n",
       "      <td>...</td>\n",
       "      <td>5</td>\n",
       "      <td>1</td>\n",
       "      <td>1</td>\n",
       "      <td>2</td>\n",
       "      <td>4</td>\n",
       "      <td>4</td>\n",
       "      <td>1</td>\n",
       "      <td>3248</td>\n",
       "      <td>77</td>\n",
       "      <td>6</td>\n",
       "    </tr>\n",
       "    <tr>\n",
       "      <th>4</th>\n",
       "      <td>5</td>\n",
       "      <td>BAZAN</td>\n",
       "      <td>IT</td>\n",
       "      <td>Korea</td>\n",
       "      <td>Director</td>\n",
       "      <td>NaN</td>\n",
       "      <td>0</td>\n",
       "      <td>NaN</td>\n",
       "      <td>3</td>\n",
       "      <td>6</td>\n",
       "      <td>...</td>\n",
       "      <td>5</td>\n",
       "      <td>3</td>\n",
       "      <td>5</td>\n",
       "      <td>1</td>\n",
       "      <td>2</td>\n",
       "      <td>5</td>\n",
       "      <td>4</td>\n",
       "      <td>3149</td>\n",
       "      <td>80</td>\n",
       "      <td>10</td>\n",
       "    </tr>\n",
       "  </tbody>\n",
       "</table>\n",
       "<p>5 rows × 62 columns</p>\n",
       "</div>"
      ],
      "text/plain": [
       "   ID      Name       Department     GEO             Role  Rising_Star  \\\n",
       "0   1    BRADDY       Operations      US               VP          NaN   \n",
       "1   2     BORST            Sales      UK  Senior Director          NaN   \n",
       "2   3  BIRDWELL          Finance  France  Senior Director          NaN   \n",
       "3   4      BENT  Human Resources   China  Senior Director          NaN   \n",
       "4   5     BAZAN               IT   Korea         Director          NaN   \n",
       "\n",
       "   Will_Relocate  Critical  Trending Perf  Talent_Level  ...  \\\n",
       "0              0       1.0              3             6  ...   \n",
       "1              0       NaN              3             6  ...   \n",
       "2              0       NaN              3             6  ...   \n",
       "3              0       NaN              3             6  ...   \n",
       "4              0       NaN              3             6  ...   \n",
       "\n",
       "   Emp_Competitive_4  Emp_Competitive_5  Emp_Collaborative_1  \\\n",
       "0                  2                  2                    2   \n",
       "1                  4                  1                    3   \n",
       "2                  2                  5                    2   \n",
       "3                  5                  1                    1   \n",
       "4                  5                  3                    5   \n",
       "\n",
       "   Emp_Collaborative_2  Emp_Collaborative_3  Emp_Collaborative_4  \\\n",
       "0                    2                    2                    1   \n",
       "1                    2                    5                    1   \n",
       "2                    2                    4                    4   \n",
       "3                    2                    4                    4   \n",
       "4                    1                    2                    5   \n",
       "\n",
       "   Emp_Collaborative_5  Sensor_StepCount  Sensor_Heartbeat(Average/Min)  \\\n",
       "0                    5              1841                             61   \n",
       "1                    5              1990                             90   \n",
       "2                    4              3193                             80   \n",
       "3                    1              3248                             77   \n",
       "4                    4              3149                             80   \n",
       "\n",
       "   Sensor_Proximity(1-highest/10-lowest)  \n",
       "0                                      9  \n",
       "1                                      8  \n",
       "2                                      8  \n",
       "3                                      6  \n",
       "4                                     10  \n",
       "\n",
       "[5 rows x 62 columns]"
      ]
     },
     "execution_count": 20,
     "metadata": {},
     "output_type": "execute_result"
    }
   ],
   "source": [
    "data_df.head()"
   ]
  },
  {
   "cell_type": "markdown",
   "id": "780ae23b-3c21-4341-af94-ed540bc4e7ed",
   "metadata": {
    "jp-MarkdownHeadingCollapsed": true
   },
   "source": [
    "# Clearing data"
   ]
  },
  {
   "cell_type": "code",
   "execution_count": 16,
   "id": "eccdd33e-5527-400a-a54b-f995e8a55957",
   "metadata": {
    "scrolled": true
   },
   "outputs": [
    {
     "name": "stdout",
     "output_type": "stream",
     "text": [
      "<class 'pandas.core.frame.DataFrame'>\n",
      "RangeIndex: 14999 entries, 0 to 14998\n",
      "Data columns (total 62 columns):\n",
      " #   Column                                 Non-Null Count  Dtype  \n",
      "---  ------                                 --------------  -----  \n",
      " 0   ID                                     14999 non-null  int64  \n",
      " 1   Name                                   14997 non-null  object \n",
      " 2   Department                             14999 non-null  object \n",
      " 3   GEO                                    14999 non-null  object \n",
      " 4   Role                                   14999 non-null  object \n",
      " 5   Rising_Star                            21 non-null     float64\n",
      " 6   Will_Relocate                          14999 non-null  int64  \n",
      " 7   Critical                               480 non-null    float64\n",
      " 8   Trending Perf                          14999 non-null  int64  \n",
      " 9   Talent_Level                           14999 non-null  int64  \n",
      " 10  Validated_Talent_Level                 14999 non-null  int64  \n",
      " 11  Percent_Remote                         14999 non-null  float64\n",
      " 12  EMP_Sat_OnPrem_1                       14871 non-null  float64\n",
      " 13  EMP_Sat_OnPrem_2                       14871 non-null  float64\n",
      " 14  EMP_Sat_OnPrem_3                       14871 non-null  float64\n",
      " 15  EMP_Sat_OnPrem_4                       14871 non-null  float64\n",
      " 16  EMP_Sat_OnPrem_5                       14871 non-null  float64\n",
      " 17  EMP_Sat_Remote_1                       14999 non-null  int64  \n",
      " 18  EMP_Sat_Remote_2                       14999 non-null  int64  \n",
      " 19  EMP_Sat_Remote_3                       14999 non-null  int64  \n",
      " 20  EMP_Sat_Remote_4                       14999 non-null  int64  \n",
      " 21  EMP_Sat_Remote_5                       14999 non-null  int64  \n",
      " 22  EMP_Engagement_1                       14999 non-null  int64  \n",
      " 23  EMP_Engagement_2                       14999 non-null  int64  \n",
      " 24  EMP_Engagement_3                       14999 non-null  int64  \n",
      " 25  EMP_Engagement_4                       14999 non-null  int64  \n",
      " 26  EMP_Engagement_5                       14999 non-null  int64  \n",
      " 27  last_evaluation                        14999 non-null  float64\n",
      " 28  number_project                         14999 non-null  int64  \n",
      " 29  average_montly_hours                   14999 non-null  int64  \n",
      " 30  time_spend_company                     14999 non-null  int64  \n",
      " 31  Work_accident                          14999 non-null  int64  \n",
      " 32  left_Company                           14999 non-null  int64  \n",
      " 33  CSR Factor                             1713 non-null   float64\n",
      " 34  promotion_last_5years                  14999 non-null  int64  \n",
      " 35  sales                                  14999 non-null  object \n",
      " 36  salary                                 14999 non-null  object \n",
      " 37  Gender                                 14999 non-null  object \n",
      " 38  LinkedIn_Hits                          14999 non-null  int64  \n",
      " 39  Emp_Work_Status2                       14999 non-null  int64  \n",
      " 40  Emp_Work_Status_3                      14999 non-null  int64  \n",
      " 41  Emp_Work_Status_4                      14999 non-null  int64  \n",
      " 42  Emp_Work_Status_5                      14999 non-null  int64  \n",
      " 43  Emp_Identity                           14999 non-null  int64  \n",
      " 44  Emp_Role                               14999 non-null  int64  \n",
      " 45  Emp_Position                           14999 non-null  int64  \n",
      " 46  Emp_Title                              14999 non-null  int64  \n",
      " 47  Women_Leave                            7596 non-null   float64\n",
      " 48  Men_Leave                              4865 non-null   float64\n",
      " 49  Emp_Competitive_1                      14999 non-null  int64  \n",
      " 50  Emp_Competitive_2                      14999 non-null  int64  \n",
      " 51  Emp_Competitive_3                      14999 non-null  int64  \n",
      " 52  Emp_Competitive_4                      14999 non-null  int64  \n",
      " 53  Emp_Competitive_5                      14999 non-null  int64  \n",
      " 54  Emp_Collaborative_1                    14999 non-null  int64  \n",
      " 55  Emp_Collaborative_2                    14999 non-null  int64  \n",
      " 56  Emp_Collaborative_3                    14999 non-null  int64  \n",
      " 57  Emp_Collaborative_4                    14999 non-null  int64  \n",
      " 58  Emp_Collaborative_5                    14999 non-null  int64  \n",
      " 59  Sensor_StepCount                       14999 non-null  int64  \n",
      " 60  Sensor_Heartbeat(Average/Min)          14999 non-null  int64  \n",
      " 61  Sensor_Proximity(1-highest/10-lowest)  14999 non-null  int64  \n",
      "dtypes: float64(12), int64(43), object(7)\n",
      "memory usage: 7.1+ MB\n"
     ]
    }
   ],
   "source": [
    "data_df.info()"
   ]
  },
  {
   "cell_type": "code",
   "execution_count": 30,
   "id": "4e259a04-01d1-402c-8e68-be033424e4b1",
   "metadata": {},
   "outputs": [],
   "source": [
    "data_df.drop(columns=[\"Name\", \"Rising_Star\", \"Critical\", \"CSR Factor\", \"Talent_Level\", \"Validated_Talent_Level\", \"Trending Perf\"], inplace=True)"
   ]
  },
  {
   "cell_type": "code",
   "execution_count": 33,
   "id": "b2145e61-8b44-42e9-87fe-b7948b26c628",
   "metadata": {
    "scrolled": true
   },
   "outputs": [],
   "source": [
    "num_columns = data_df.select_dtypes(include=(\"int64\", \"float64\")).columns"
   ]
  },
  {
   "cell_type": "markdown",
   "id": "dff1ebea-6ce8-42d1-8bc5-fda3aa815dd5",
   "metadata": {},
   "source": [
    "# PCA analysis"
   ]
  },
  {
   "cell_type": "code",
   "execution_count": null,
   "id": "7946886e-4887-4705-8ff3-8b98770a1303",
   "metadata": {},
   "outputs": [],
   "source": []
  }
 ],
 "metadata": {
  "kernelspec": {
   "display_name": "Python 3 (ipykernel)",
   "language": "python",
   "name": "python3"
  },
  "language_info": {
   "codemirror_mode": {
    "name": "ipython",
    "version": 3
   },
   "file_extension": ".py",
   "mimetype": "text/x-python",
   "name": "python",
   "nbconvert_exporter": "python",
   "pygments_lexer": "ipython3",
   "version": "3.10.6"
  }
 },
 "nbformat": 4,
 "nbformat_minor": 5
}
